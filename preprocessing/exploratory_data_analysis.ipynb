{
  "cells": [
    {
      "cell_type": "markdown",
      "metadata": {
        "id": "Io3bh65SjAWP"
      },
      "source": [
        "# MIMIC-III Exploratory Data Analysis using preprocessed data from preprocess_data()\n",
        "\n",
        "This streamlined EDA works directly with the comprehensive dataset returned by\n",
        "the preprocess_data() function, which already includes:\n",
        "- Demographics & targets (mortality, prolonged_stay, readmission)  \n",
        "- Vital signs (aggregated by 6h windows)\n",
        "- Laboratory results (aggregated by 6h windows)\n",
        "- Medications (binary flags + doses)\n",
        "- Microbiology (culture results, resistance patterns)\n",
        "- Advanced feature engineering (differentials, gradients)"
      ]
    },
    {
      "cell_type": "code",
      "execution_count": 1,
      "metadata": {
        "colab": {
          "base_uri": "https://localhost:8080/"
        },
        "id": "JJPqVp99jAWR",
        "outputId": "32d9a797-4d95-45e5-e0cd-bf782b1ce750"
      },
      "outputs": [
        {
          "output_type": "stream",
          "name": "stdout",
          "text": [
            "Mounted at /content/drive\n"
          ]
        }
      ],
      "source": [
        "# Install required packages\n",
        "!pip install duckdb --quiet\n",
        "\n",
        "import os\n",
        "import sys\n",
        "from datetime import datetime\n",
        "import pandas as pd\n",
        "import matplotlib.pyplot as plt\n",
        "from matplotlib_venn import venn3\n",
        "import seaborn as sns\n",
        "import numpy as np\n",
        "import uuid\n",
        "import duckdb\n",
        "\n",
        "# Import Google Colab utilities\n",
        "from google.colab import drive\n",
        "drive.mount('/content/drive')\n",
        "\n",
        "# Import our preprocessing utilities\n",
        "from utils import load_file, sql_from_MIMICIII, age, ethnicity_to_ohe\n",
        "from config import get_config\n",
        "from sql import get_sql_queries\n",
        "from preprocess_pipeline import preprocess_data\n",
        "\n",
        "\n",
        "config_dict = get_config()"
      ]
    },
    {
      "cell_type": "code",
      "execution_count": 2,
      "metadata": {
        "colab": {
          "base_uri": "https://localhost:8080/"
        },
        "id": "lniT2khzjAWT",
        "outputId": "4d0d66cc-adba-4cf2-f42c-6246bfed783f"
      },
      "outputs": [
        {
          "output_type": "stream",
          "name": "stdout",
          "text": [
            "Connecting to MIMIC-III DuckDB database...\n",
            "Successfully connected to MIMIC-III DuckDB database\n",
            "Available tables: 26 tables found\n",
            "   - ADMISSIONS\n",
            "   - CALLOUT\n",
            "   - CAREGIVERS\n",
            "   - CHARTEVENTS\n",
            "   - CPTEVENTS\n",
            "   ... and 21 more tables\n"
          ]
        }
      ],
      "source": [
        "# Connect to MIMIC-III DuckDB database\n",
        "print(\"Connecting to MIMIC-III DuckDB database...\")\n",
        "try:\n",
        "    con = duckdb.connect(f'{config_dict[\"data_paths\"][\"DRIVE_PATH\"]}/{config_dict[\"data_paths\"][\"MIMIC_DB_NAME\"]}')\n",
        "    print(\"Successfully connected to MIMIC-III DuckDB database\")\n",
        "\n",
        "    # Test connection by getting table names\n",
        "    tables = con.execute(\"SHOW TABLES\").fetchall()\n",
        "    print(f\"Available tables: {len(tables)} tables found\")\n",
        "    for table in tables[:5]:  # Show first 5 tables\n",
        "        print(f\"   - {table[0]}\")\n",
        "    if len(tables) > 5:\n",
        "        print(f\"   ... and {len(tables) - 5} more tables\")\n",
        "\n",
        "except Exception as e:\n",
        "    print(f\"Error connecting to database: {e}\")\n",
        "    print(\"Please ensure:\")\n",
        "    print(\"1. You have created a shortcut to MIMIC-III directory in your Drive\")\n",
        "    print(\"2. Drive path in config.py is correct\")\n",
        "    print(\"3. Database file exists\")"
      ]
    },
    {
      "cell_type": "code",
      "execution_count": 6,
      "metadata": {
        "id": "M9e3ndGmjAWU",
        "colab": {
          "base_uri": "https://localhost:8080/"
        },
        "outputId": "f1df4ee2-1ef1-4b4b-c6d0-2417a8231511"
      },
      "outputs": [
        {
          "output_type": "stream",
          "name": "stdout",
          "text": [
            "Successfully loaded initial_cohort.csv\n",
            "Loaded 32513 subjects from initial cohort\n",
            "Subject ID range: 2 - 99999\n",
            "Sample subject IDs: [22392, 2847, 12056, 25600, 73125, 13429, 5023, 47109, 50434, 2920]...\n"
          ]
        }
      ],
      "source": [
        "# load the initial cohort from the provided CSV file\n",
        "subject_ids = load_file(config_dict['data_paths']['DATA_PATH'], config_dict['data_paths']['INITIAL_COHORT'])\n",
        "if subject_ids is not None:\n",
        "    subject_ids = subject_ids['subject_id'].tolist()\n",
        "    print(f\"Loaded {len(subject_ids)} subjects from initial cohort\")\n",
        "    print(f\"Subject ID range: {min(subject_ids)} - {max(subject_ids)}\")\n",
        "    print(f\"Sample subject IDs: {subject_ids[:10]}...\")\n",
        "else:\n",
        "    print(\"Failed to load initial cohort CSV file\")\n",
        "    print(\"Please ensure initial_cohort.csv exists in the data directory\")"
      ]
    },
    {
      "cell_type": "code",
      "execution_count": 7,
      "metadata": {
        "id": "SWqv8LlJjAWV",
        "colab": {
          "base_uri": "https://localhost:8080/",
          "height": 507,
          "referenced_widgets": [
            "640cc4064d0e43dfa5cf939939955f95",
            "7319080d2fd847d89cf33516f9134c7f",
            "be8511e8daec46a4ac9b341c0848a75b",
            "0dbefa7b94664829b2991e7aa2f820bf",
            "24cb1e84c4ec4572a3ee6baef3e616cb",
            "f3cdfff566894e40bf330dd33b7ed994",
            "56b92fd63c8f41a8aecfb94d61cf6c64",
            "9e37ffb03b67489f8feede30eee4c8f0",
            "e126395585114333be6dcec1eadc8382",
            "627f023539e24e1c94aa1d82ab47d80e",
            "18e1e390f1ea4993aa9289a7cb8f5b31",
            "a9621cada1e14f83a013c3e070c260ee",
            "2eb5c350c414446e8cc7b42b76d1c8ee",
            "98ec0e5c52d248e8bd6fac6a8ebbce62",
            "91434f7ff47f459a888e2fd772050f70"
          ]
        },
        "outputId": "7c3f0430-e5fc-4506-f413-73ecff53a6da"
      },
      "outputs": [
        {
          "output_type": "stream",
          "name": "stdout",
          "text": [
            "\\n================================================================================\n",
            "LOADING COMPREHENSIVE PREPROCESSED DATASET\n",
            "================================================================================\n"
          ]
        },
        {
          "output_type": "display_data",
          "data": {
            "text/plain": [
              "FloatProgress(value=0.0, layout=Layout(width='auto'), style=ProgressStyle(bar_color='black'))"
            ],
            "application/vnd.jupyter.widget-view+json": {
              "version_major": 2,
              "version_minor": 0,
              "model_id": "640cc4064d0e43dfa5cf939939955f95"
            }
          },
          "metadata": {}
        },
        {
          "output_type": "stream",
          "name": "stdout",
          "text": [
            "ICU data preprocessed successfully\n",
            "Successfully loaded labs_metadata.csv\n"
          ]
        },
        {
          "output_type": "display_data",
          "data": {
            "text/plain": [
              "FloatProgress(value=0.0, layout=Layout(width='auto'), style=ProgressStyle(bar_color='black'))"
            ],
            "application/vnd.jupyter.widget-view+json": {
              "version_major": 2,
              "version_minor": 0,
              "model_id": "0dbefa7b94664829b2991e7aa2f820bf"
            }
          },
          "metadata": {}
        },
        {
          "output_type": "stream",
          "name": "stdout",
          "text": [
            "Laboratory test results data preprocessed successfully\n",
            "Successfully loaded vital_metadata.csv\n"
          ]
        },
        {
          "output_type": "display_data",
          "data": {
            "text/plain": [
              "FloatProgress(value=0.0, layout=Layout(width='auto'), style=ProgressStyle(bar_color='black'))"
            ],
            "application/vnd.jupyter.widget-view+json": {
              "version_major": 2,
              "version_minor": 0,
              "model_id": "56b92fd63c8f41a8aecfb94d61cf6c64"
            }
          },
          "metadata": {}
        },
        {
          "output_type": "stream",
          "name": "stdout",
          "text": [
            "Vital signs data preprocessed successfully\n"
          ]
        },
        {
          "output_type": "display_data",
          "data": {
            "text/plain": [
              "FloatProgress(value=0.0, layout=Layout(width='auto'), style=ProgressStyle(bar_color='black'))"
            ],
            "application/vnd.jupyter.widget-view+json": {
              "version_major": 2,
              "version_minor": 0,
              "model_id": "627f023539e24e1c94aa1d82ab47d80e"
            }
          },
          "metadata": {}
        },
        {
          "output_type": "stream",
          "name": "stdout",
          "text": [
            "Prescriptions data data uploaded and feature engineering done for it successfully\n"
          ]
        },
        {
          "output_type": "display_data",
          "data": {
            "text/plain": [
              "FloatProgress(value=0.0, layout=Layout(width='auto'), style=ProgressStyle(bar_color='black'))"
            ],
            "application/vnd.jupyter.widget-view+json": {
              "version_major": 2,
              "version_minor": 0,
              "model_id": "2eb5c350c414446e8cc7b42b76d1c8ee"
            }
          },
          "metadata": {}
        },
        {
          "output_type": "stream",
          "name": "stdout",
          "text": [
            "Microbiology events data uploaded and feature engineering done for it successfully\n",
            "Vital signs and lab data feature engineering done successfully\n",
            "Pre-process done\n",
            "=== EXPLORATORY DATA ANALYSIS ===\n",
            "Dataset loaded successfully!\n",
            "Shape: 190,963 rows × 274 columns\n",
            "Unique patients: 27,636\n",
            "Time periods per patient (avg): 6.9\n",
            "\\nColumns in dataset: 274\n",
            "Target variables: ['mortality', 'prolonged_stay', 'readmission']\n"
          ]
        }
      ],
      "source": [
        "print(\"\\\\n\" + \"=\"*80)\n",
        "print(\"LOADING COMPREHENSIVE PREPROCESSED DATASET\")\n",
        "print(\"=\"*80)\n",
        "df = preprocess_data(subject_ids, con)\n",
        "print(\"=== EXPLORATORY DATA ANALYSIS ===\")\n",
        "print(f\"Dataset loaded successfully!\")\n",
        "print(f\"Shape: {df.shape[0]:,} rows × {df.shape[1]} columns\")\n",
        "print(f\"Unique patients: {df['subject_id'].nunique():,}\")\n",
        "print(f\"Time periods per patient (avg): {df.groupby('subject_id').size().mean():.1f}\")\n",
        "\n",
        "# Basic dataset info\n",
        "print(f\"\\\\nColumns in dataset: {len(df.columns)}\")\n",
        "target_cols = [col for col in df.columns if col in ['mortality', 'prolonged_stay', 'readmission']]\n",
        "print(f\"Target variables: {target_cols}\")"
      ]
    },
    {
      "cell_type": "code",
      "execution_count": 8,
      "metadata": {
        "id": "1fVpELkLjAWj",
        "outputId": "2a0ff4ec-ca48-4331-9d5d-8d1eb2c67079",
        "colab": {
          "base_uri": "https://localhost:8080/"
        }
      },
      "outputs": [
        {
          "output_type": "stream",
          "name": "stdout",
          "text": [
            "\\n=== TARGET DISTRIBUTIONS ===\n",
            "mortality: 22,289 cases (11.7% prevalence)\n",
            "prolonged_stay: 95,800 cases (50.2% prevalence)\n",
            "readmission: 7,503 cases (3.9% prevalence)\n",
            "\\nTarget Correlations:\n",
            "                mortality  prolonged_stay  readmission\n",
            "mortality           1.000           0.063       -0.003\n",
            "prolonged_stay      0.063           1.000        0.050\n",
            "readmission        -0.003           0.050        1.000\n"
          ]
        }
      ],
      "source": [
        "# ============================================================================\n",
        "# TARGET DISTRIBUTIONS\n",
        "# ============================================================================\n",
        "\n",
        "print(f\"\\\\n=== TARGET DISTRIBUTIONS ===\")\n",
        "for target in ['mortality', 'prolonged_stay', 'readmission']:\n",
        "    if target in df.columns:\n",
        "        count = df[target].sum()\n",
        "        rate = df[target].mean()\n",
        "        print(f\"{target}: {count:,} cases ({rate:.1%} prevalence)\")\n",
        "\n",
        "# Target correlation analysis\n",
        "if len(target_cols) > 1:\n",
        "    print(f\"\\\\nTarget Correlations:\")\n",
        "    target_corr = df[target_cols].corr()\n",
        "    print(target_corr.round(3))"
      ]
    },
    {
      "cell_type": "code",
      "execution_count": 9,
      "metadata": {
        "id": "wcsPEYCHjAWk",
        "outputId": "6085883b-b43d-4506-933a-05b75d714540",
        "colab": {
          "base_uri": "https://localhost:8080/"
        }
      },
      "outputs": [
        {
          "output_type": "stream",
          "name": "stdout",
          "text": [
            "\\n=== DEMOGRAPHICS ANALYSIS ===\n",
            "Available demographic features: 2\n",
            "\\nAge Statistics:\n",
            "Mean age: 66.3 years\n",
            "Median age: 63.0 years\n",
            "Age range: 0.0 - 310.0 years\n",
            "\\nGender Distribution:\n",
            "Gender 1: 108,442 (56.8%)\n",
            "Gender 0: 82,521 (43.2%)\n"
          ]
        }
      ],
      "source": [
        "# ============================================================================\n",
        "# DEMOGRAPHICS ANALYSIS\n",
        "# ============================================================================\n",
        "\n",
        "print(f\"\\\\n=== DEMOGRAPHICS ANALYSIS ===\")\n",
        "demographic_cols = [col for col in df.columns if col in ['age', 'gender'] or 'ethnicity' in col.lower()]\n",
        "print(f\"Available demographic features: {len(demographic_cols)}\")\n",
        "\n",
        "if 'age' in df.columns:\n",
        "    print(f\"\\\\nAge Statistics:\")\n",
        "    print(f\"Mean age: {df['age'].mean():.1f} years\")\n",
        "    print(f\"Median age: {df['age'].median():.1f} years\")\n",
        "    print(f\"Age range: {df['age'].min():.1f} - {df['age'].max():.1f} years\")\n",
        "\n",
        "if 'gender' in df.columns:\n",
        "    print(f\"\\\\nGender Distribution:\")\n",
        "    gender_counts = df['gender'].value_counts()\n",
        "    for gender, count in gender_counts.items():\n",
        "        print(f\"Gender {gender}: {count:,} ({count/len(df):.1%})\")"
      ]
    },
    {
      "cell_type": "code",
      "execution_count": 10,
      "metadata": {
        "id": "yeuOr4yMjAWk",
        "outputId": "f097148d-86a3-4d21-f4bc-70fa2aa7fc78",
        "colab": {
          "base_uri": "https://localhost:8080/"
        }
      },
      "outputs": [
        {
          "output_type": "stream",
          "name": "stdout",
          "text": [
            "\\n=== FEATURE CATEGORIES ANALYSIS ===\n",
            "Vital signs features: 36\n",
            "Laboratory features: 33\n",
            "Medication features: 77\n",
            "Microbiology features: 33\n",
            "\\nSample vital signs: ['DiasBP_mean', 'HeartRate_mean', 'MeanBP_mean', 'RespRate_mean', 'SpO2_mean']\n",
            "Sample lab features: ['CREATININE_mean', 'GLUCOSE_mean', 'Glucose_mean', 'POTASSIUM_mean', 'SODIUM_mean']\n",
            "Sample medications: ['is_ace_inhibitors', 'is_analgesic_adjuvant', 'is_analgesic_antipyretic', 'is_analgesic_nsaid', 'is_antiarrhythmics']\n",
            "Sample microbiology: ['is_insulin', 'is_rate_control_ccb', 'is_sedatives']\n"
          ]
        }
      ],
      "source": [
        "# ============================================================================\n",
        "# FEATURE CATEGORIES ANALYSIS\n",
        "# ============================================================================\n",
        "\n",
        "print(f\"\\\\n=== FEATURE CATEGORIES ANALYSIS ===\")\n",
        "vital_features = [col for col in df.columns if any(v in col.lower() for v in ['heart', 'bp', 'temp', 'resp', 'spo2'])]\n",
        "lab_features = [col for col in df.columns if any(l in col.lower() for l in ['glucose', 'creatinine', 'wbc', 'sodium', 'potassium'])]\n",
        "med_features = [col for col in df.columns if col.startswith('is_') and col not in ['is_r', 'is_s', 'is_i']]\n",
        "micro_features = [col for col in df.columns if any(m in col.lower() for m in ['test_site', 'is_r', 'is_s', 'is_i', 'organism'])]\n",
        "\n",
        "print(f\"Vital signs features: {len(vital_features)}\")\n",
        "print(f\"Laboratory features: {len(lab_features)}\")\n",
        "print(f\"Medication features: {len(med_features)}\")\n",
        "print(f\"Microbiology features: {len(micro_features)}\")\n",
        "\n",
        "# Sample of feature names by category\n",
        "if vital_features:\n",
        "    print(f\"\\\\nSample vital signs: {vital_features[:5]}\")\n",
        "if lab_features:\n",
        "    print(f\"Sample lab features: {lab_features[:5]}\")\n",
        "if med_features:\n",
        "    print(f\"Sample medications: {med_features[:5]}\")\n",
        "if micro_features:\n",
        "    print(f\"Sample microbiology: {micro_features[:3]}\")"
      ]
    },
    {
      "cell_type": "code",
      "execution_count": 11,
      "metadata": {
        "id": "ufTTnDpEjAWl",
        "outputId": "9e175881-14d5-439d-ff03-76cf2e9378af",
        "colab": {
          "base_uri": "https://localhost:8080/"
        }
      },
      "outputs": [
        {
          "output_type": "stream",
          "name": "stdout",
          "text": [
            "\\n=== VITAL SIGNS ANALYSIS ===\n",
            "Available vital signs columns: 35\n",
            "Sample vital signs columns: ['DiasBP_mean', 'HeartRate_mean', 'MeanBP_mean', 'RespRate_mean', 'SpO2_mean']\n",
            "\\nVital Signs Data Completeness:\n",
            "- DiasBP_mean: 118,572 values (62.1% complete)\n",
            "- HeartRate_mean: 137,516 values (72.0% complete)\n",
            "- MeanBP_mean: 118,615 values (62.1% complete)\n",
            "- RespRate_mean: 118,566 values (62.1% complete)\n",
            "- SpO2_mean: 118,571 values (62.1% complete)\n",
            "- SysBP_mean: 118,576 values (62.1% complete)\n",
            "- TempC_mean: 116,553 values (61.0% complete)\n",
            "- DiasBP_max: 118,572 values (62.1% complete)\n",
            "\\nKey Vital Signs Statistics:\n",
            "- HeartRate_mean: Mean 92.6 ± 25.1\n",
            "- SysBP_mean: Mean 121.0 ± 19.0\n",
            "- TempC_mean: Mean 36.9 ± 0.8\n"
          ]
        }
      ],
      "source": [
        "# ============================================================================\n",
        "# VITAL SIGNS ANALYSIS\n",
        "# ============================================================================\n",
        "\n",
        "print(f\"\\\\n=== VITAL SIGNS ANALYSIS ===\")\n",
        "\n",
        "vital_cols = [col for col in df.columns if any(v in col.lower() for v in ['heartrate', 'sysbp', 'diasbp', 'meanbp', 'resprate', 'tempc', 'spo2'])]\n",
        "print(f\"Available vital signs columns: {len(vital_cols)}\")\n",
        "\n",
        "if vital_cols:\n",
        "    print(f\"Sample vital signs columns: {vital_cols[:5]}\")\n",
        "\n",
        "    # Data completeness by vital type\n",
        "    print(f\"\\\\nVital Signs Data Completeness:\")\n",
        "    for col in vital_cols[:8]:  # Show first 8 vital columns\n",
        "        missing_pct = df[col].isnull().mean() * 100\n",
        "        non_missing = df[col].notna().sum()\n",
        "        print(f\"- {col}: {non_missing:,} values ({100-missing_pct:.1f}% complete)\")\n",
        "\n",
        "    # Basic statistics for key vitals\n",
        "    key_vitals = [col for col in vital_cols if any(v in col.lower() for v in ['heartrate_mean', 'sysbp_mean', 'tempc_mean'])]\n",
        "    if key_vitals:\n",
        "        print(f\"\\\\nKey Vital Signs Statistics:\")\n",
        "        for col in key_vitals:\n",
        "            if col in df.columns:\n",
        "                mean_val = df[col].mean()\n",
        "                std_val = df[col].std()\n",
        "                print(f\"- {col}: Mean {mean_val:.1f} ± {std_val:.1f}\")\n",
        "else:\n",
        "    print(\"No vital signs columns found in dataset\")"
      ]
    },
    {
      "cell_type": "code",
      "execution_count": 12,
      "metadata": {
        "id": "JHm3yXbmjAWm",
        "outputId": "d5b17015-8051-483b-f1a6-66c2174c7186",
        "colab": {
          "base_uri": "https://localhost:8080/"
        }
      },
      "outputs": [
        {
          "output_type": "stream",
          "name": "stdout",
          "text": [
            "\\n=== LABORATORY ANALYSIS ===\n",
            "Available lab columns: 38\n",
            "Sample lab columns: ['CREATININE_mean', 'GLUCOSE_mean', 'Glucose_mean', 'HEMOGLOBIN_mean', 'POTASSIUM_mean']\n",
            "\\nLab Data Completeness:\n",
            "- CREATININE_mean: 149,395 values (78.2% complete)\n",
            "- GLUCOSE_mean: 152,422 values (79.8% complete)\n",
            "- Glucose_mean: 116,593 values (61.1% complete)\n",
            "- HEMOGLOBIN_mean: 168,792 values (88.4% complete)\n",
            "- POTASSIUM_mean: 159,037 values (83.3% complete)\n",
            "- SODIUM_mean: 158,521 values (83.0% complete)\n",
            "- WBC_mean: 164,965 values (86.4% complete)\n",
            "- CREATININE_max: 149,395 values (78.2% complete)\n"
          ]
        }
      ],
      "source": [
        "# ============================================================================\n",
        "# LABORATORY ANALYSIS\n",
        "# ============================================================================\n",
        "\n",
        "print(f\"\\\\n=== LABORATORY ANALYSIS ===\")\n",
        "\n",
        "lab_cols = [col for col in df.columns if any(l in col.lower() for l in ['glucose', 'creatinine', 'sodium', 'potassium', 'wbc', 'hemoglobin'])]\n",
        "print(f\"Available lab columns: {len(lab_cols)}\")\n",
        "\n",
        "if lab_cols:\n",
        "    print(f\"Sample lab columns: {lab_cols[:5]}\")\n",
        "\n",
        "    # Lab data completeness\n",
        "    print(f\"\\\\nLab Data Completeness:\")\n",
        "    for col in lab_cols[:8]:  # Show first 8 lab columns\n",
        "        missing_pct = df[col].isnull().mean() * 100\n",
        "        non_missing = df[col].notna().sum()\n",
        "        print(f\"- {col}: {non_missing:,} values ({100-missing_pct:.1f}% complete)\")\n",
        "else:\n",
        "    print(\"No laboratory columns found in dataset\")"
      ]
    },
    {
      "cell_type": "code",
      "execution_count": 13,
      "metadata": {
        "id": "r47_pQ3ejAWn",
        "outputId": "cdc14bd7-687d-4f8d-cba8-acc53ccf78c2",
        "colab": {
          "base_uri": "https://localhost:8080/"
        }
      },
      "outputs": [
        {
          "output_type": "stream",
          "name": "stdout",
          "text": [
            "\\n=== MEDICATION ANALYSIS ===\n",
            "Available medication categories: 77\n",
            "Medication categories: ['is_ace_inhibitors', 'is_analgesic_adjuvant', 'is_analgesic_antipyretic', 'is_analgesic_nsaid', 'is_antiarrhythmics', 'is_antibiotics', 'is_anticoagulants', 'is_anticonvulsants']\n",
            "\\nMedication Usage Rates:\n",
            "- is_ace_inhibitors: 5,464.0 patients (2.9%)\n",
            "- is_analgesic_adjuvant: 1,456.0 patients (0.8%)\n",
            "- is_analgesic_antipyretic: 19,682.0 patients (10.3%)\n",
            "- is_analgesic_nsaid: 2,335.0 patients (1.2%)\n",
            "- is_antiarrhythmics: 4,155.0 patients (2.2%)\n",
            "- is_antibiotics: 24,414.0 patients (12.8%)\n",
            "- is_anticoagulants: 22,086.0 patients (11.6%)\n",
            "- is_anticonvulsants: 4,429.0 patients (2.3%)\n",
            "- is_antiemetics: 9,094.0 patients (4.8%)\n",
            "- is_antifungals: 853.0 patients (0.4%)\n"
          ]
        }
      ],
      "source": [
        "# ============================================================================\n",
        "# MEDICATION ANALYSIS\n",
        "# ============================================================================\n",
        "\n",
        "print(f\"\\\\n=== MEDICATION ANALYSIS ===\")\n",
        "\n",
        "med_cols = [col for col in df.columns if col.startswith('is_') and col not in ['is_r', 'is_s', 'is_i']]\n",
        "print(f\"Available medication categories: {len(med_cols)}\")\n",
        "\n",
        "if med_cols:\n",
        "    print(f\"Medication categories: {med_cols[:8]}\")\n",
        "\n",
        "    # Medication usage rates\n",
        "    print(f\"\\\\nMedication Usage Rates:\")\n",
        "    for col in med_cols[:10]:  # Show first 10 medication categories\n",
        "        usage_rate = df[col].mean()\n",
        "        usage_count = df[col].sum()\n",
        "        print(f\"- {col}: {usage_count:,} patients ({usage_rate:.1%})\")\n",
        "else:\n",
        "    print(\"No medication columns found in dataset\")"
      ]
    },
    {
      "cell_type": "code",
      "execution_count": 14,
      "metadata": {
        "id": "4DjYf22xjAWo",
        "outputId": "9f7956de-5787-4432-8039-5516a1a4c57b",
        "colab": {
          "base_uri": "https://localhost:8080/"
        }
      },
      "outputs": [
        {
          "output_type": "stream",
          "name": "stdout",
          "text": [
            "\\n=== MICROBIOLOGY ANALYSIS ===\n",
            "Available microbiology features: 33\n",
            "Sample microbiology features: ['is_insulin', 'is_rate_control_ccb', 'is_sedatives', 'is_steroids', 'test_site_blood']\n",
            "\\nMicrobiology Event Rates:\n",
            "- is_insulin: 19,751.0 events (10.3%)\n",
            "- is_rate_control_ccb: 2,133.0 events (1.1%)\n",
            "- is_sedatives: 18,142.0 events (9.5%)\n",
            "- is_steroids: 5,964.0 events (3.1%)\n",
            "- test_site_blood: 89,195.0 events (62.9%)\n",
            "- test_site_device: 184.0 events (0.1%)\n",
            "- test_site_ent: 429.0 events (0.3%)\n",
            "- test_site_eye: 71.0 events (0.1%)\n"
          ]
        }
      ],
      "source": [
        "# ============================================================================\n",
        "# MICROBIOLOGY ANALYSIS\n",
        "# ============================================================================\n",
        "\n",
        "print(f\"\\\\n=== MICROBIOLOGY ANALYSIS ===\")\n",
        "\n",
        "micro_cols = [col for col in df.columns if any(m in col.lower() for m in ['test_site', 'is_r', 'is_s', 'is_i', 'organism'])]\n",
        "print(f\"Available microbiology features: {len(micro_cols)}\")\n",
        "\n",
        "if micro_cols:\n",
        "    print(f\"Sample microbiology features: {micro_cols[:5]}\")\n",
        "\n",
        "    # Microbiology event rates\n",
        "    print(f\"\\\\nMicrobiology Event Rates:\")\n",
        "    for col in micro_cols[:8]:  # Show first 8 microbiology features\n",
        "        if df[col].dtype in ['int64', 'float64'] and df[col].nunique() <= 10:\n",
        "            event_rate = df[col].mean()\n",
        "            event_count = df[col].sum()\n",
        "            print(f\"- {col}: {event_count:,} events ({event_rate:.1%})\")\n",
        "else:\n",
        "    print(\"No microbiology columns found in dataset\")"
      ]
    },
    {
      "cell_type": "code",
      "execution_count": 15,
      "metadata": {
        "id": "AaQN-cozjAWo",
        "outputId": "d633b0c7-d5b6-4f02-e631-8bb2531d04c9",
        "colab": {
          "base_uri": "https://localhost:8080/"
        }
      },
      "outputs": [
        {
          "output_type": "stream",
          "name": "stdout",
          "text": [
            "\\n=== DATA QUALITY SUMMARY ===\n",
            "Total rows: 190,963\n",
            "Total columns: 274\n",
            "Missing values per column (top 10):\n",
            "- ALBUMIN_std: 189,627 (99.3%)\n",
            "- BILIRUBIN_std: 188,368 (98.6%)\n",
            "- PHOSPHATE_std: 181,805 (95.2%)\n",
            "- MAGNESIUM_std: 179,846 (94.2%)\n",
            "- deathtime: 175,495 (91.9%)\n",
            "- ANION GAP_std: 175,458 (91.9%)\n",
            "- BICARBONATE_std: 174,923 (91.6%)\n",
            "- BUN_std: 172,634 (90.4%)\n",
            "- CREATININE_std: 172,515 (90.3%)\n",
            "- PT_std: 169,361 (88.7%)\n"
          ]
        }
      ],
      "source": [
        "# ============================================================================\n",
        "# DATA QUALITY SUMMARY\n",
        "# ============================================================================\n",
        "\n",
        "print(f\"\\\\n=== DATA QUALITY SUMMARY ===\")\n",
        "print(f\"Total rows: {len(df):,}\")\n",
        "print(f\"Total columns: {len(df.columns)}\")\n",
        "print(f\"Missing values per column (top 10):\")\n",
        "missing_counts = df.isnull().sum().sort_values(ascending=False).head(10)\n",
        "for col, missing in missing_counts.items():\n",
        "    missing_pct = missing / len(df) * 100\n",
        "    print(f\"- {col}: {missing:,} ({missing_pct:.1f}%)\")\n"
      ]
    },
    {
      "cell_type": "code",
      "execution_count": 16,
      "metadata": {
        "id": "hFPEkfg4jAWp",
        "outputId": "c1d2a497-a051-46a9-f665-6d60715aff5d",
        "colab": {
          "base_uri": "https://localhost:8080/",
          "height": 589
        }
      },
      "outputs": [
        {
          "output_type": "stream",
          "name": "stdout",
          "text": [
            "\\n=== CREATING VISUALIZATIONS ===\n"
          ]
        },
        {
          "output_type": "display_data",
          "data": {
            "text/plain": [
              "<Figure size 1500x1000 with 7 Axes>"
            ],
            "image/png": "[encoded data removed]"
          },
          "metadata": {}
        },
        {
          "output_type": "stream",
          "name": "stdout",
          "text": [
            "Visualizations created successfully!\n"
          ]
        }
      ],
      "source": [
        "# ============================================================================\n",
        "# VISUALIZATIONS\n",
        "# ============================================================================\n",
        "\n",
        "print(f\"\\\\n=== CREATING VISUALIZATIONS ===\")\n",
        "\n",
        "# Create basic visualizations if possible\n",
        "try:\n",
        "    plt.figure(figsize=(15, 10))\n",
        "\n",
        "    # Target distributions\n",
        "    plt.subplot(2, 3, 1)\n",
        "    if target_cols:\n",
        "        target_counts = [df[col].sum() for col in target_cols]\n",
        "        plt.bar(target_cols, target_counts, color=['red', 'orange', 'blue'], alpha=0.7)\n",
        "        plt.title('Target Variable Counts')\n",
        "        plt.ylabel('Number of Cases')\n",
        "        plt.xticks(rotation=45)\n",
        "\n",
        "    # Age distribution if available\n",
        "    plt.subplot(2, 3, 2)\n",
        "    if 'age' in df.columns:\n",
        "        plt.hist(df['age'].dropna(), bins=30, alpha=0.7, color='skyblue', edgecolor='black')\n",
        "        plt.title('Age Distribution')\n",
        "        plt.xlabel('Age (years)')\n",
        "        plt.ylabel('Count')\n",
        "\n",
        "    # Gender distribution if available\n",
        "    plt.subplot(2, 3, 3)\n",
        "    if 'gender' in df.columns:\n",
        "        gender_counts = df['gender'].value_counts()\n",
        "        plt.bar(gender_counts.index, gender_counts.values, color=['lightcoral', 'lightblue'], alpha=0.7)\n",
        "        plt.title('Gender Distribution')\n",
        "        plt.ylabel('Count')\n",
        "\n",
        "    # Missing data heatmap for key columns\n",
        "    plt.subplot(2, 3, 4)\n",
        "    key_cols = target_cols + ['age', 'gender'] + vital_features[:3] + lab_features[:3]\n",
        "    key_cols = [col for col in key_cols if col in df.columns][:10]  # Top 10 key columns\n",
        "    if key_cols:\n",
        "        missing_data = df[key_cols].isnull().mean()\n",
        "        plt.bar(range(len(missing_data)), missing_data.values, color='lightcoral', alpha=0.7)\n",
        "        plt.title('Missing Data Rate (Key Features)')\n",
        "        plt.ylabel('Missing Rate')\n",
        "        plt.xticks(range(len(missing_data)), missing_data.index, rotation=45)\n",
        "\n",
        "    # Target correlation heatmap\n",
        "    plt.subplot(2, 3, 5)\n",
        "    if len(target_cols) > 1:\n",
        "        sns.heatmap(df[target_cols].corr(), annot=True, cmap='coolwarm', center=0, square=True)\n",
        "        plt.title('Target Correlations')\n",
        "\n",
        "    # Feature category counts\n",
        "    plt.subplot(2, 3, 6)\n",
        "    feature_counts = [len(vital_features), len(lab_features), len(med_features), len(micro_features)]\n",
        "    feature_names = ['Vitals', 'Labs', 'Meds', 'Micro']\n",
        "    plt.bar(feature_names, feature_counts, color=['skyblue', 'lightgreen', 'wheat', 'lightcoral'], alpha=0.7)\n",
        "    plt.title('Feature Categories')\n",
        "    plt.ylabel('Number of Features')\n",
        "\n",
        "    plt.tight_layout()\n",
        "    plt.show()\n",
        "\n",
        "    print(\"Visualizations created successfully!\")\n",
        "\n",
        "except ImportError:\n",
        "    print(\"Matplotlib not available for visualizations\")\n",
        "except Exception as e:\n",
        "    print(f\"Error creating visualizations: {e}\")"
      ]
    },
    {
      "cell_type": "code",
      "execution_count": 17,
      "metadata": {
        "id": "i7TSlimpjAWp",
        "outputId": "6f36fba5-1a8e-42fc-de56-1c0d18256be5",
        "colab": {
          "base_uri": "https://localhost:8080/"
        }
      },
      "outputs": [
        {
          "output_type": "stream",
          "name": "stdout",
          "text": [
            "\\n================================================================================\n",
            "EXPLORATORY DATA ANALYSIS SUMMARY\n",
            "================================================================================\n",
            "📊 Dataset Overview:\n",
            "   • 190,963 total observations\n",
            "   • 27,636 unique patients\n",
            "   • 274 total features\n",
            "   • 6.9 avg time periods per patient\n",
            "\\n🎯 Target Variables:\n",
            "   • mortality: 22,289 cases (11.7% prevalence)\n",
            "   • prolonged_stay: 95,800 cases (50.2% prevalence)\n",
            "   • readmission: 7,503 cases (3.9% prevalence)\n",
            "\\n📈 Feature Categories:\n",
            "   • Vital signs: 36 features\n",
            "   • Laboratory: 33 features\n",
            "   • Medications: 77 features\n",
            "   • Microbiology: 33 features\n",
            "\\n💾 Data Quality:\n",
            "   • Overall missing rate: 27.5%\n",
            "   • Complete cases: 0 (0.0%)\n",
            "\\n✅ Status: Dataset ready for modeling!\n",
            "   • All targets pre-computed\n",
            "   • Advanced feature engineering completed\n",
            "   • Multi-modal clinical data integrated\n",
            "   • Temporal aggregation applied (6h windows)\n",
            "================================================================================\n",
            "💡 Next Steps: Data partitioning → Feature selection → Model training\n",
            "================================================================================\n"
          ]
        }
      ],
      "source": [
        "# ============================================================================\n",
        "# FINAL SUMMARY\n",
        "# ============================================================================\n",
        "\n",
        "print(f\"\\\\n\" + \"=\"*80)\n",
        "print(\"EXPLORATORY DATA ANALYSIS SUMMARY\")\n",
        "print(\"=\"*80)\n",
        "\n",
        "print(f\"📊 Dataset Overview:\")\n",
        "print(f\"   • {df.shape[0]:,} total observations\")\n",
        "print(f\"   • {df['subject_id'].nunique():,} unique patients\")\n",
        "print(f\"   • {df.shape[1]} total features\")\n",
        "print(f\"   • {df.groupby('subject_id').size().mean():.1f} avg time periods per patient\")\n",
        "\n",
        "print(f\"\\\\n🎯 Target Variables:\")\n",
        "for target in target_cols:\n",
        "    if target in df.columns:\n",
        "        count = df[target].sum()\n",
        "        rate = df[target].mean()\n",
        "        print(f\"   • {target}: {count:,} cases ({rate:.1%} prevalence)\")\n",
        "\n",
        "print(f\"\\\\n📈 Feature Categories:\")\n",
        "print(f\"   • Vital signs: {len(vital_features)} features\")\n",
        "print(f\"   • Laboratory: {len(lab_features)} features\")\n",
        "print(f\"   • Medications: {len(med_features)} features\")\n",
        "print(f\"   • Microbiology: {len(micro_features)} features\")\n",
        "\n",
        "print(f\"\\\\n💾 Data Quality:\")\n",
        "overall_missing = df.isnull().mean().mean()\n",
        "print(f\"   • Overall missing rate: {overall_missing:.1%}\")\n",
        "complete_cases = df.dropna().shape[0]\n",
        "print(f\"   • Complete cases: {complete_cases:,} ({complete_cases/len(df):.1%})\")\n",
        "\n",
        "print(f\"\\\\n✅ Status: Dataset ready for modeling!\")\n",
        "print(f\"   • All targets pre-computed\")\n",
        "print(f\"   • Advanced feature engineering completed\")\n",
        "print(f\"   • Multi-modal clinical data integrated\")\n",
        "print(f\"   • Temporal aggregation applied (6h windows)\")\n",
        "\n",
        "print(\"=\"*80)\n",
        "print(\"💡 Next Steps: Data partitioning → Feature selection → Model training\")\n",
        "print(\"=\"*80)"
      ]
    }
  ],
  "metadata": {
    "colab": {
      "provenance": []
    },
    "kernelspec": {
      "display_name": ".venv",
      "language": "python",
      "name": "python3"
    },
    "language_info": {
      "codemirror_mode": {
        "name": "ipython",
        "version": 3
      },
      "file_extension": ".py",
      "mimetype": "text/x-python",
      "name": "python",
      "nbconvert_exporter": "python",
      "pygments_lexer": "ipython3",
      "version": "3.12.0"
    },
    "widgets": {
      "application/vnd.jupyter.widget-state+json": {
        "640cc4064d0e43dfa5cf939939955f95": {
          "model_module": "@jupyter-widgets/controls",
          "model_name": "FloatProgressModel",
          "model_module_version": "1.5.0",
          "state": {
            "_dom_classes": [],
            "_model_module": "@jupyter-widgets/controls",
            "_model_module_version": "1.5.0",
            "_model_name": "FloatProgressModel",
            "_view_count": null,
            "_view_module": "@jupyter-widgets/controls",
            "_view_module_version": "1.5.0",
            "_view_name": "ProgressView",
            "bar_style": "",
            "description": "",
            "description_tooltip": null,
            "layout": "IPY_MODEL_7319080d2fd847d89cf33516f9134c7f",
            "max": 100,
            "min": 0,
            "orientation": "horizontal",
            "style": "IPY_MODEL_be8511e8daec46a4ac9b341c0848a75b",
            "value": 100
          }
        },
        "7319080d2fd847d89cf33516f9134c7f": {
          "model_module": "@jupyter-widgets/base",
          "model_name": "LayoutModel",
          "model_module_version": "1.2.0",
          "state": {
            "_model_module": "@jupyter-widgets/base",
            "_model_module_version": "1.2.0",
            "_model_name": "LayoutModel",
            "_view_count": null,
            "_view_module": "@jupyter-widgets/base",
            "_view_module_version": "1.2.0",
            "_view_name": "LayoutView",
            "align_content": null,
            "align_items": null,
            "align_self": null,
            "border": null,
            "bottom": null,
            "display": null,
            "flex": null,
            "flex_flow": null,
            "grid_area": null,
            "grid_auto_columns": null,
            "grid_auto_flow": null,
            "grid_auto_rows": null,
            "grid_column": null,
            "grid_gap": null,
            "grid_row": null,
            "grid_template_areas": null,
            "grid_template_columns": null,
            "grid_template_rows": null,
            "height": null,
            "justify_content": null,
            "justify_items": null,
            "left": null,
            "margin": null,
            "max_height": null,
            "max_width": null,
            "min_height": null,
            "min_width": null,
            "object_fit": null,
            "object_position": null,
            "order": null,
            "overflow": null,
            "overflow_x": null,
            "overflow_y": null,
            "padding": null,
            "right": null,
            "top": null,
            "visibility": null,
            "width": "auto"
          }
        },
        "be8511e8daec46a4ac9b341c0848a75b": {
          "model_module": "@jupyter-widgets/controls",
          "model_name": "ProgressStyleModel",
          "model_module_version": "1.5.0",
          "state": {
            "_model_module": "@jupyter-widgets/controls",
            "_model_module_version": "1.5.0",
            "_model_name": "ProgressStyleModel",
            "_view_count": null,
            "_view_module": "@jupyter-widgets/base",
            "_view_module_version": "1.2.0",
            "_view_name": "StyleView",
            "bar_color": "black",
            "description_width": ""
          }
        },
        "0dbefa7b94664829b2991e7aa2f820bf": {
          "model_module": "@jupyter-widgets/controls",
          "model_name": "FloatProgressModel",
          "model_module_version": "1.5.0",
          "state": {
            "_dom_classes": [],
            "_model_module": "@jupyter-widgets/controls",
            "_model_module_version": "1.5.0",
            "_model_name": "FloatProgressModel",
            "_view_count": null,
            "_view_module": "@jupyter-widgets/controls",
            "_view_module_version": "1.5.0",
            "_view_name": "ProgressView",
            "bar_style": "",
            "description": "",
            "description_tooltip": null,
            "layout": "IPY_MODEL_24cb1e84c4ec4572a3ee6baef3e616cb",
            "max": 100,
            "min": 0,
            "orientation": "horizontal",
            "style": "IPY_MODEL_f3cdfff566894e40bf330dd33b7ed994",
            "value": 59
          }
        },
        "24cb1e84c4ec4572a3ee6baef3e616cb": {
          "model_module": "@jupyter-widgets/base",
          "model_name": "LayoutModel",
          "model_module_version": "1.2.0",
          "state": {
            "_model_module": "@jupyter-widgets/base",
            "_model_module_version": "1.2.0",
            "_model_name": "LayoutModel",
            "_view_count": null,
            "_view_module": "@jupyter-widgets/base",
            "_view_module_version": "1.2.0",
            "_view_name": "LayoutView",
            "align_content": null,
            "align_items": null,
            "align_self": null,
            "border": null,
            "bottom": null,
            "display": null,
            "flex": null,
            "flex_flow": null,
            "grid_area": null,
            "grid_auto_columns": null,
            "grid_auto_flow": null,
            "grid_auto_rows": null,
            "grid_column": null,
            "grid_gap": null,
            "grid_row": null,
            "grid_template_areas": null,
            "grid_template_columns": null,
            "grid_template_rows": null,
            "height": null,
            "justify_content": null,
            "justify_items": null,
            "left": null,
            "margin": null,
            "max_height": null,
            "max_width": null,
            "min_height": null,
            "min_width": null,
            "object_fit": null,
            "object_position": null,
            "order": null,
            "overflow": null,
            "overflow_x": null,
            "overflow_y": null,
            "padding": null,
            "right": null,
            "top": null,
            "visibility": null,
            "width": "auto"
          }
        },
        "f3cdfff566894e40bf330dd33b7ed994": {
          "model_module": "@jupyter-widgets/controls",
          "model_name": "ProgressStyleModel",
          "model_module_version": "1.5.0",
          "state": {
            "_model_module": "@jupyter-widgets/controls",
            "_model_module_version": "1.5.0",
            "_model_name": "ProgressStyleModel",
            "_view_count": null,
            "_view_module": "@jupyter-widgets/base",
            "_view_module_version": "1.2.0",
            "_view_name": "StyleView",
            "bar_color": "black",
            "description_width": ""
          }
        },
        "56b92fd63c8f41a8aecfb94d61cf6c64": {
          "model_module": "@jupyter-widgets/controls",
          "model_name": "FloatProgressModel",
          "model_module_version": "1.5.0",
          "state": {
            "_dom_classes": [],
            "_model_module": "@jupyter-widgets/controls",
            "_model_module_version": "1.5.0",
            "_model_name": "FloatProgressModel",
            "_view_count": null,
            "_view_module": "@jupyter-widgets/controls",
            "_view_module_version": "1.5.0",
            "_view_name": "ProgressView",
            "bar_style": "",
            "description": "",
            "description_tooltip": null,
            "layout": "IPY_MODEL_9e37ffb03b67489f8feede30eee4c8f0",
            "max": 100,
            "min": 0,
            "orientation": "horizontal",
            "style": "IPY_MODEL_e126395585114333be6dcec1eadc8382",
            "value": 84
          }
        },
        "9e37ffb03b67489f8feede30eee4c8f0": {
          "model_module": "@jupyter-widgets/base",
          "model_name": "LayoutModel",
          "model_module_version": "1.2.0",
          "state": {
            "_model_module": "@jupyter-widgets/base",
            "_model_module_version": "1.2.0",
            "_model_name": "LayoutModel",
            "_view_count": null,
            "_view_module": "@jupyter-widgets/base",
            "_view_module_version": "1.2.0",
            "_view_name": "LayoutView",
            "align_content": null,
            "align_items": null,
            "align_self": null,
            "border": null,
            "bottom": null,
            "display": null,
            "flex": null,
            "flex_flow": null,
            "grid_area": null,
            "grid_auto_columns": null,
            "grid_auto_flow": null,
            "grid_auto_rows": null,
            "grid_column": null,
            "grid_gap": null,
            "grid_row": null,
            "grid_template_areas": null,
            "grid_template_columns": null,
            "grid_template_rows": null,
            "height": null,
            "justify_content": null,
            "justify_items": null,
            "left": null,
            "margin": null,
            "max_height": null,
            "max_width": null,
            "min_height": null,
            "min_width": null,
            "object_fit": null,
            "object_position": null,
            "order": null,
            "overflow": null,
            "overflow_x": null,
            "overflow_y": null,
            "padding": null,
            "right": null,
            "top": null,
            "visibility": null,
            "width": "auto"
          }
        },
        "e126395585114333be6dcec1eadc8382": {
          "model_module": "@jupyter-widgets/controls",
          "model_name": "ProgressStyleModel",
          "model_module_version": "1.5.0",
          "state": {
            "_model_module": "@jupyter-widgets/controls",
            "_model_module_version": "1.5.0",
            "_model_name": "ProgressStyleModel",
            "_view_count": null,
            "_view_module": "@jupyter-widgets/base",
            "_view_module_version": "1.2.0",
            "_view_name": "StyleView",
            "bar_color": "black",
            "description_width": ""
          }
        },
        "627f023539e24e1c94aa1d82ab47d80e": {
          "model_module": "@jupyter-widgets/controls",
          "model_name": "FloatProgressModel",
          "model_module_version": "1.5.0",
          "state": {
            "_dom_classes": [],
            "_model_module": "@jupyter-widgets/controls",
            "_model_module_version": "1.5.0",
            "_model_name": "FloatProgressModel",
            "_view_count": null,
            "_view_module": "@jupyter-widgets/controls",
            "_view_module_version": "1.5.0",
            "_view_name": "ProgressView",
            "bar_style": "",
            "description": "",
            "description_tooltip": null,
            "layout": "IPY_MODEL_18e1e390f1ea4993aa9289a7cb8f5b31",
            "max": 100,
            "min": 0,
            "orientation": "horizontal",
            "style": "IPY_MODEL_a9621cada1e14f83a013c3e070c260ee",
            "value": 100
          }
        },
        "18e1e390f1ea4993aa9289a7cb8f5b31": {
          "model_module": "@jupyter-widgets/base",
          "model_name": "LayoutModel",
          "model_module_version": "1.2.0",
          "state": {
            "_model_module": "@jupyter-widgets/base",
            "_model_module_version": "1.2.0",
            "_model_name": "LayoutModel",
            "_view_count": null,
            "_view_module": "@jupyter-widgets/base",
            "_view_module_version": "1.2.0",
            "_view_name": "LayoutView",
            "align_content": null,
            "align_items": null,
            "align_self": null,
            "border": null,
            "bottom": null,
            "display": null,
            "flex": null,
            "flex_flow": null,
            "grid_area": null,
            "grid_auto_columns": null,
            "grid_auto_flow": null,
            "grid_auto_rows": null,
            "grid_column": null,
            "grid_gap": null,
            "grid_row": null,
            "grid_template_areas": null,
            "grid_template_columns": null,
            "grid_template_rows": null,
            "height": null,
            "justify_content": null,
            "justify_items": null,
            "left": null,
            "margin": null,
            "max_height": null,
            "max_width": null,
            "min_height": null,
            "min_width": null,
            "object_fit": null,
            "object_position": null,
            "order": null,
            "overflow": null,
            "overflow_x": null,
            "overflow_y": null,
            "padding": null,
            "right": null,
            "top": null,
            "visibility": null,
            "width": "auto"
          }
        },
        "a9621cada1e14f83a013c3e070c260ee": {
          "model_module": "@jupyter-widgets/controls",
          "model_name": "ProgressStyleModel",
          "model_module_version": "1.5.0",
          "state": {
            "_model_module": "@jupyter-widgets/controls",
            "_model_module_version": "1.5.0",
            "_model_name": "ProgressStyleModel",
            "_view_count": null,
            "_view_module": "@jupyter-widgets/base",
            "_view_module_version": "1.2.0",
            "_view_name": "StyleView",
            "bar_color": "black",
            "description_width": ""
          }
        },
        "2eb5c350c414446e8cc7b42b76d1c8ee": {
          "model_module": "@jupyter-widgets/controls",
          "model_name": "FloatProgressModel",
          "model_module_version": "1.5.0",
          "state": {
            "_dom_classes": [],
            "_model_module": "@jupyter-widgets/controls",
            "_model_module_version": "1.5.0",
            "_model_name": "FloatProgressModel",
            "_view_count": null,
            "_view_module": "@jupyter-widgets/controls",
            "_view_module_version": "1.5.0",
            "_view_name": "ProgressView",
            "bar_style": "",
            "description": "",
            "description_tooltip": null,
            "layout": "IPY_MODEL_98ec0e5c52d248e8bd6fac6a8ebbce62",
            "max": 100,
            "min": 0,
            "orientation": "horizontal",
            "style": "IPY_MODEL_91434f7ff47f459a888e2fd772050f70",
            "value": 100
          }
        },
        "98ec0e5c52d248e8bd6fac6a8ebbce62": {
          "model_module": "@jupyter-widgets/base",
          "model_name": "LayoutModel",
          "model_module_version": "1.2.0",
          "state": {
            "_model_module": "@jupyter-widgets/base",
            "_model_module_version": "1.2.0",
            "_model_name": "LayoutModel",
            "_view_count": null,
            "_view_module": "@jupyter-widgets/base",
            "_view_module_version": "1.2.0",
            "_view_name": "LayoutView",
            "align_content": null,
            "align_items": null,
            "align_self": null,
            "border": null,
            "bottom": null,
            "display": null,
            "flex": null,
            "flex_flow": null,
            "grid_area": null,
            "grid_auto_columns": null,
            "grid_auto_flow": null,
            "grid_auto_rows": null,
            "grid_column": null,
            "grid_gap": null,
            "grid_row": null,
            "grid_template_areas": null,
            "grid_template_columns": null,
            "grid_template_rows": null,
            "height": null,
            "justify_content": null,
            "justify_items": null,
            "left": null,
            "margin": null,
            "max_height": null,
            "max_width": null,
            "min_height": null,
            "min_width": null,
            "object_fit": null,
            "object_position": null,
            "order": null,
            "overflow": null,
            "overflow_x": null,
            "overflow_y": null,
            "padding": null,
            "right": null,
            "top": null,
            "visibility": null,
            "width": "auto"
          }
        },
        "91434f7ff47f459a888e2fd772050f70": {
          "model_module": "@jupyter-widgets/controls",
          "model_name": "ProgressStyleModel",
          "model_module_version": "1.5.0",
          "state": {
            "_model_module": "@jupyter-widgets/controls",
            "_model_module_version": "1.5.0",
            "_model_name": "ProgressStyleModel",
            "_view_count": null,
            "_view_module": "@jupyter-widgets/base",
            "_view_module_version": "1.2.0",
            "_view_name": "StyleView",
            "bar_color": "black",
            "description_width": ""
          }
        }
      }
    }
  },
  "nbformat": 4,
  "nbformat_minor": 0
}