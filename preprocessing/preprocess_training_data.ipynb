{
  "cells": [
    {
      "cell_type": "code",
      "execution_count": 1,
      "metadata": {
        "colab": {
          "base_uri": "https://localhost:8080/"
        },
        "id": "qP19wi6dA0cy",
        "outputId": "9f72d4fd-ca85-48c5-83e6-8ed0a0dda8be"
      },
      "outputs": [
        {
          "output_type": "stream",
          "name": "stdout",
          "text": [
            "Mounted at /content/drive\n"
          ]
        }
      ],
      "source": [
        "import pandas as pd\n",
        "import numpy as np\n",
        "import pickle as pkl\n",
        "\n",
        "# Install duckdb\n",
        "!pip install duckdb --quiet\n",
        "import duckdb\n",
        "# Mount Google Drive\n",
        "from google.colab import drive\n",
        "drive.mount('/content/drive')\n",
        "\n",
        "from utils import load_file, sql_from_MIMICIII, age, ethnicity_to_ohe, generate_series_data, _word2pat, _map_drug_name_2_category, _site_from_specimen_type, split_data, data_norm, imputation_by_baseline, generate_series_data\n",
        "from config import get_config\n",
        "from sql import get_sql_queries\n",
        "from name_keywords import get_keywords_cat\n",
        "from preprocess_pipeline import preprocess_data\n",
        "\n",
        "config_dict = get_config()"
      ]
    },
    {
      "cell_type": "code",
      "execution_count": 2,
      "metadata": {
        "colab": {
          "base_uri": "https://localhost:8080/"
        },
        "id": "BiKWn9NLH1FT",
        "outputId": "954ed9a0-76a8-40a1-d733-18aed6dfad61"
      },
      "outputs": [
        {
          "output_type": "stream",
          "name": "stdout",
          "text": [
            "Connection to MIMIC-III drive DB done successfuly.\n"
          ]
        }
      ],
      "source": [
        "# connect to MIMIC-III drive DB\n",
        "# for this to work we have to add a shortcut to MIMIC-III dir to given drive\n",
        "try:\n",
        "  con = duckdb.connect(f'{config_dict['data_paths']['DRIVE_PATH']}/{config_dict['data_paths']['MIMIC_DB_NAME']}')\n",
        "  print(\"Connection to MIMIC-III drive DB done successfuly.\")\n",
        "except:\n",
        "  print(\"Error: connection to MIMIC-III drive DB was unsuccessful.\")\n",
        "  print(\"Please ensure drive has a shortcut to MIMIC-III dir and that drive_path is correct.\")"
      ]
    },
    {
      "cell_type": "code",
      "execution_count": 3,
      "metadata": {
        "colab": {
          "base_uri": "https://localhost:8080/"
        },
        "id": "LO2AO13kIViK",
        "outputId": "1602a6f5-2523-4d55-c971-b181e1d6bed3"
      },
      "outputs": [
        {
          "output_type": "stream",
          "name": "stdout",
          "text": [
            "Successfully loaded initial_cohort.csv\n"
          ]
        }
      ],
      "source": [
        "# load the initial cohort from the provided CSV file\n",
        "subject_ids = load_file(config_dict['data_paths']['DATA_PATH'], config_dict['data_paths']['INITIAL_COHORT'])\n",
        "if subject_ids is not None:\n",
        "  subject_ids = subject_ids['subject_id'].tolist()"
      ]
    },
    {
      "cell_type": "code",
      "execution_count": 4,
      "metadata": {
        "colab": {
          "base_uri": "https://localhost:8080/",
          "height": 333,
          "referenced_widgets": [
            "f91188e169f5433ba239364ad9218889",
            "ae1ec94fafb844eeb23a4b49e60683bc",
            "d45b8eb7010946bcaa584017ff826e9a",
            "3ec81091874441d98c2fffeb5872b9ee",
            "a659294f9a90465cba4d74c841311653",
            "138267efde8d4a99a5579df2d4c73946",
            "88b9db155f4b47a795771d7de29dad69",
            "b00328acb1c7416db162d7dc77dd5a7d",
            "1c11ba6488b843ecbd2ef24c5969d1e6",
            "22666fb567ba4293a5b629bd96023b62",
            "ee4d8571d1474409ae175e9ae7527e61",
            "40e2972a490a4a6aa24adf7dd7eea8a3",
            "51cda68cf8cf4abe895a799ccf9b44c7",
            "b2cc6a78df0f40ecaf793fab679e791e",
            "9d525d84133c4a65956d19b3d4556fed"
          ]
        },
        "id": "UN2dYufvIYxR",
        "outputId": "65f2d55b-5db7-4e5f-bebf-0ef597139055"
      },
      "outputs": [
        {
          "output_type": "display_data",
          "data": {
            "text/plain": [
              "FloatProgress(value=0.0, layout=Layout(width='auto'), style=ProgressStyle(bar_color='black'))"
            ],
            "application/vnd.jupyter.widget-view+json": {
              "version_major": 2,
              "version_minor": 0,
              "model_id": "f91188e169f5433ba239364ad9218889"
            }
          },
          "metadata": {}
        },
        {
          "output_type": "stream",
          "name": "stdout",
          "text": [
            "ICU data preprocessed successfully\n",
            "Successfully loaded labs_metadata.csv\n"
          ]
        },
        {
          "output_type": "display_data",
          "data": {
            "text/plain": [
              "FloatProgress(value=0.0, layout=Layout(width='auto'), style=ProgressStyle(bar_color='black'))"
            ],
            "application/vnd.jupyter.widget-view+json": {
              "version_major": 2,
              "version_minor": 0,
              "model_id": "3ec81091874441d98c2fffeb5872b9ee"
            }
          },
          "metadata": {}
        },
        {
          "output_type": "stream",
          "name": "stdout",
          "text": [
            "Laboratory test results data preprocessed successfully\n",
            "Successfully loaded vital_metadata.csv\n"
          ]
        },
        {
          "output_type": "display_data",
          "data": {
            "text/plain": [
              "FloatProgress(value=0.0, layout=Layout(width='auto'), style=ProgressStyle(bar_color='black'))"
            ],
            "application/vnd.jupyter.widget-view+json": {
              "version_major": 2,
              "version_minor": 0,
              "model_id": "88b9db155f4b47a795771d7de29dad69"
            }
          },
          "metadata": {}
        },
        {
          "output_type": "stream",
          "name": "stdout",
          "text": [
            "Vital signs data preprocessed successfully\n"
          ]
        },
        {
          "output_type": "display_data",
          "data": {
            "text/plain": [
              "FloatProgress(value=0.0, layout=Layout(width='auto'), style=ProgressStyle(bar_color='black'))"
            ],
            "application/vnd.jupyter.widget-view+json": {
              "version_major": 2,
              "version_minor": 0,
              "model_id": "22666fb567ba4293a5b629bd96023b62"
            }
          },
          "metadata": {}
        },
        {
          "output_type": "stream",
          "name": "stdout",
          "text": [
            "Prescriptions data data uploaded and feature engineering done for it successfully\n"
          ]
        },
        {
          "output_type": "display_data",
          "data": {
            "text/plain": [
              "FloatProgress(value=0.0, layout=Layout(width='auto'), style=ProgressStyle(bar_color='black'))"
            ],
            "application/vnd.jupyter.widget-view+json": {
              "version_major": 2,
              "version_minor": 0,
              "model_id": "51cda68cf8cf4abe895a799ccf9b44c7"
            }
          },
          "metadata": {}
        },
        {
          "output_type": "stream",
          "name": "stdout",
          "text": [
            "Microbiology events data uploaded and feature engineering done for it successfully\n",
            "Vital signs and lab data feature engineering done successfully\n",
            "Pre-process done\n"
          ]
        }
      ],
      "source": [
        "df = preprocess_data(subject_ids, con)"
      ]
    },
    {
      "cell_type": "markdown",
      "metadata": {
        "id": "n9w2lv_OOBAX"
      },
      "source": [
        "# Target Definition and Partition"
      ]
    },
    {
      "cell_type": "code",
      "execution_count": 5,
      "metadata": {
        "id": "tCk8tunaNd-z"
      },
      "outputs": [],
      "source": [
        "X = df.drop(columns=['hadm_id','dischtime','dod','dob','deathtime','mortality','prolonged_stay','readmission','sec_admittime'])\n",
        "y = df[['subject_id'] + config_dict['TASKS']]\n",
        "\n",
        "# split data into Train-Test-Validation (80%-20%-20%)\n",
        "X_train, y_train, X_val, y_val, X_test, y_test = split_data(X, y, df[\"subject_id\"])"
      ]
    },
    {
      "cell_type": "markdown",
      "metadata": {
        "id": "VZ1M4EJHOLUh"
      },
      "source": [
        "# Standardization and Imputation"
      ]
    },
    {
      "cell_type": "code",
      "execution_count": 6,
      "metadata": {
        "colab": {
          "base_uri": "https://localhost:8080/"
        },
        "id": "EgomgXXPPsaY",
        "outputId": "2ef36812-7618-4747-97b9-36de582e6722"
      },
      "outputs": [
        {
          "output_type": "stream",
          "name": "stderr",
          "text": [
            "/content/utils.py:52: SettingWithCopyWarning: \n",
            "A value is trying to be set on a copy of a slice from a DataFrame.\n",
            "Try using .loc[row_indexer,col_indexer] = value instead\n",
            "\n",
            "See the caveats in the documentation: https://pandas.pydata.org/pandas-docs/stable/user_guide/indexing.html#returning-a-view-versus-a-copy\n",
            "  df[numeric_cols] = df[numeric_cols].astype(\"float64\")\n"
          ]
        },
        {
          "output_type": "stream",
          "name": "stdout",
          "text": [
            "train → X: (152694, 264), y: (152694, 4)\n",
            "val   → X: (19008, 264),   y: (19008, 4)\n",
            "test  → X: (19261, 264),  y: (19261, 4)\n"
          ]
        }
      ],
      "source": [
        "# excluding numerical but not continuous features (categorical and IDs)\n",
        "numeric_cols = X_train.select_dtypes(include='float').columns.tolist()\n",
        "numeric_cols = [c for c in numeric_cols if X_train[c].nunique() >= 10]+['age']\n",
        "\n",
        "# Standardization (fit scaler by TRAIN only)\n",
        "X_train, scaler = data_norm(X_train, numeric_cols, scaler=None)\n",
        "X_test, _ = data_norm(X_test, numeric_cols, scaler=scaler)\n",
        "X_val, _ = data_norm(X_val, numeric_cols, scaler=scaler)\n",
        "\n",
        "# Imputation by first‐day baseline (calc baseline by TRAIN only)\n",
        "X_train, baseline = imputation_by_baseline(X_train, numeric_cols, baseline=None)\n",
        "X_test, _ = imputation_by_baseline(X_test, numeric_cols, baseline=baseline)\n",
        "X_val, _ = imputation_by_baseline(X_val, numeric_cols, baseline=baseline)\n",
        "\n",
        "# other columns imputation by 0\n",
        "X_train, X_test, X_val = X_train.fillna(0), X_test.fillna(0), X_val.fillna(0)\n",
        "\n",
        "X_train = X_train.drop(columns='admittime').reset_index(drop=True)\n",
        "X_test = X_test.drop(columns='admittime').reset_index(drop=True)\n",
        "X_val = X_val.drop(columns='admittime').reset_index(drop=True)\n",
        "\n",
        "print(f\"train → X: {X_train.shape}, y: {y_train.shape}\")\n",
        "print(f\"val   → X: {X_val.shape},   y: {y_val.shape}\")\n",
        "print(f\"test  → X: {X_test.shape},  y: {y_test.shape}\")"
      ]
    },
    {
      "cell_type": "markdown",
      "metadata": {
        "id": "FLBkIj8TQ8Nv"
      },
      "source": [
        "# time series format"
      ]
    },
    {
      "cell_type": "code",
      "execution_count": 7,
      "metadata": {
        "colab": {
          "base_uri": "https://localhost:8080/"
        },
        "id": "XG8Uj53XQ7Mk",
        "outputId": "7b6ab8e1-d154-4fc9-ed66-fe4f5800f4f4"
      },
      "outputs": [
        {
          "output_type": "stream",
          "name": "stdout",
          "text": [
            "Sequence shapes:\n",
            " X_train_seq: (22108, 9, 262)  y_tarin_lables: (22108, 3)  mask: (22108, 9)\n",
            " X_val_seq:   (2764, 9, 262)  y_val_lables: (2764, 3)  mask: (2764, 9)\n",
            " X_test_seq:  (2764, 9, 262)  y_test_lables: (2764, 3)  mask: (2764, 9)\n"
          ]
        }
      ],
      "source": [
        "# Generate padded sequences + masks\n",
        "X_train_seq, y_train_seq, mask_train, subject_ids_train = generate_series_data(X_train, y_train, time_col=\"charttime\")\n",
        "X_val_seq, y_val_seq, mask_val, subject_ids_val = generate_series_data(X_val, y_val, time_col=\"charttime\")\n",
        "X_test_seq, y_test_seq, mask_test, subject_ids_test = generate_series_data(X_test, y_test, time_col=\"charttime\")\n",
        "\n",
        "print(\"Sequence shapes:\")\n",
        "print(\" X_train_seq:\", X_train_seq.shape, \" y_tarin_lables:\", y_train_seq.shape, \" mask:\", mask_train.shape)\n",
        "print(\" X_val_seq:  \", X_val_seq.shape, \" y_val_lables:\", y_val_seq.shape,\" mask:\", mask_val.shape)\n",
        "print(\" X_test_seq: \", X_test_seq.shape, \" y_test_lables:\", y_test_seq.shape,\" mask:\", mask_test.shape)"
      ]
    },
    {
      "cell_type": "markdown",
      "metadata": {
        "id": "Vl8U0ZomRRqP"
      },
      "source": [
        "# Save Data"
      ]
    },
    {
      "cell_type": "code",
      "execution_count": 8,
      "metadata": {
        "id": "TbU8LhhpVuz8"
      },
      "outputs": [],
      "source": [
        "datasets = [(\"X_train_seq\", X_train_seq), (\"y_train_lables\", y_train_seq), (\"mask_train\", mask_train),\n",
        "            (\"X_val_seq\", X_val_seq), (\"y_val_lables\", y_val_seq), (\"mask_val\", mask_val),\n",
        "            (\"X_test_seq\", X_test_seq), (\"y_test_lables\", y_test_seq), (\"mask_test\", mask_test)]\n",
        "for name, data in datasets:\n",
        "  with open(f'data/{name}.pkl', 'wb') as handle:\n",
        "      pkl.dump(data, handle)\n",
        "\n",
        "train_features = df.drop(columns=['subject_id','mortality','prolonged_stay','readmission','hadm_id','dischtime','dod','dob','deathtime','charttime','sec_admittime','admittime']).columns.to_list()\n",
        "models_params_dict = {\"numeric_cols\":numeric_cols, \"scaler\": scaler, \"baseline\": baseline, \"train_features\" : train_features, \"tasks\" : config_dict[\"TASKS\"]}\n",
        "with open(f'data/models_params_dict.pkl', 'wb') as handle:\n",
        "    pkl.dump(models_params_dict, handle)"
      ]
    }
  ],
  "metadata": {
    "colab": {
      "provenance": []
    },
    "kernelspec": {
      "display_name": ".venv",
      "language": "python",
      "name": "python3"
    },
    "language_info": {
      "codemirror_mode": {
        "name": "ipython",
        "version": 3
      },
      "file_extension": ".py",
      "mimetype": "text/x-python",
      "name": "python",
      "nbconvert_exporter": "python",
      "pygments_lexer": "ipython3",
      "version": "3.12.0"
    },
    "widgets": {
      "application/vnd.jupyter.widget-state+json": {
        "f91188e169f5433ba239364ad9218889": {
          "model_module": "@jupyter-widgets/controls",
          "model_name": "FloatProgressModel",
          "model_module_version": "1.5.0",
          "state": {
            "_dom_classes": [],
            "_model_module": "@jupyter-widgets/controls",
            "_model_module_version": "1.5.0",
            "_model_name": "FloatProgressModel",
            "_view_count": null,
            "_view_module": "@jupyter-widgets/controls",
            "_view_module_version": "1.5.0",
            "_view_name": "ProgressView",
            "bar_style": "",
            "description": "",
            "description_tooltip": null,
            "layout": "IPY_MODEL_ae1ec94fafb844eeb23a4b49e60683bc",
            "max": 100,
            "min": 0,
            "orientation": "horizontal",
            "style": "IPY_MODEL_d45b8eb7010946bcaa584017ff826e9a",
            "value": 100
          }
        },
        "ae1ec94fafb844eeb23a4b49e60683bc": {
          "model_module": "@jupyter-widgets/base",
          "model_name": "LayoutModel",
          "model_module_version": "1.2.0",
          "state": {
            "_model_module": "@jupyter-widgets/base",
            "_model_module_version": "1.2.0",
            "_model_name": "LayoutModel",
            "_view_count": null,
            "_view_module": "@jupyter-widgets/base",
            "_view_module_version": "1.2.0",
            "_view_name": "LayoutView",
            "align_content": null,
            "align_items": null,
            "align_self": null,
            "border": null,
            "bottom": null,
            "display": null,
            "flex": null,
            "flex_flow": null,
            "grid_area": null,
            "grid_auto_columns": null,
            "grid_auto_flow": null,
            "grid_auto_rows": null,
            "grid_column": null,
            "grid_gap": null,
            "grid_row": null,
            "grid_template_areas": null,
            "grid_template_columns": null,
            "grid_template_rows": null,
            "height": null,
            "justify_content": null,
            "justify_items": null,
            "left": null,
            "margin": null,
            "max_height": null,
            "max_width": null,
            "min_height": null,
            "min_width": null,
            "object_fit": null,
            "object_position": null,
            "order": null,
            "overflow": null,
            "overflow_x": null,
            "overflow_y": null,
            "padding": null,
            "right": null,
            "top": null,
            "visibility": null,
            "width": "auto"
          }
        },
        "d45b8eb7010946bcaa584017ff826e9a": {
          "model_module": "@jupyter-widgets/controls",
          "model_name": "ProgressStyleModel",
          "model_module_version": "1.5.0",
          "state": {
            "_model_module": "@jupyter-widgets/controls",
            "_model_module_version": "1.5.0",
            "_model_name": "ProgressStyleModel",
            "_view_count": null,
            "_view_module": "@jupyter-widgets/base",
            "_view_module_version": "1.2.0",
            "_view_name": "StyleView",
            "bar_color": "black",
            "description_width": ""
          }
        },
        "3ec81091874441d98c2fffeb5872b9ee": {
          "model_module": "@jupyter-widgets/controls",
          "model_name": "FloatProgressModel",
          "model_module_version": "1.5.0",
          "state": {
            "_dom_classes": [],
            "_model_module": "@jupyter-widgets/controls",
            "_model_module_version": "1.5.0",
            "_model_name": "FloatProgressModel",
            "_view_count": null,
            "_view_module": "@jupyter-widgets/controls",
            "_view_module_version": "1.5.0",
            "_view_name": "ProgressView",
            "bar_style": "",
            "description": "",
            "description_tooltip": null,
            "layout": "IPY_MODEL_a659294f9a90465cba4d74c841311653",
            "max": 100,
            "min": 0,
            "orientation": "horizontal",
            "style": "IPY_MODEL_138267efde8d4a99a5579df2d4c73946",
            "value": 59
          }
        },
        "a659294f9a90465cba4d74c841311653": {
          "model_module": "@jupyter-widgets/base",
          "model_name": "LayoutModel",
          "model_module_version": "1.2.0",
          "state": {
            "_model_module": "@jupyter-widgets/base",
            "_model_module_version": "1.2.0",
            "_model_name": "LayoutModel",
            "_view_count": null,
            "_view_module": "@jupyter-widgets/base",
            "_view_module_version": "1.2.0",
            "_view_name": "LayoutView",
            "align_content": null,
            "align_items": null,
            "align_self": null,
            "border": null,
            "bottom": null,
            "display": null,
            "flex": null,
            "flex_flow": null,
            "grid_area": null,
            "grid_auto_columns": null,
            "grid_auto_flow": null,
            "grid_auto_rows": null,
            "grid_column": null,
            "grid_gap": null,
            "grid_row": null,
            "grid_template_areas": null,
            "grid_template_columns": null,
            "grid_template_rows": null,
            "height": null,
            "justify_content": null,
            "justify_items": null,
            "left": null,
            "margin": null,
            "max_height": null,
            "max_width": null,
            "min_height": null,
            "min_width": null,
            "object_fit": null,
            "object_position": null,
            "order": null,
            "overflow": null,
            "overflow_x": null,
            "overflow_y": null,
            "padding": null,
            "right": null,
            "top": null,
            "visibility": null,
            "width": "auto"
          }
        },
        "138267efde8d4a99a5579df2d4c73946": {
          "model_module": "@jupyter-widgets/controls",
          "model_name": "ProgressStyleModel",
          "model_module_version": "1.5.0",
          "state": {
            "_model_module": "@jupyter-widgets/controls",
            "_model_module_version": "1.5.0",
            "_model_name": "ProgressStyleModel",
            "_view_count": null,
            "_view_module": "@jupyter-widgets/base",
            "_view_module_version": "1.2.0",
            "_view_name": "StyleView",
            "bar_color": "black",
            "description_width": ""
          }
        },
        "88b9db155f4b47a795771d7de29dad69": {
          "model_module": "@jupyter-widgets/controls",
          "model_name": "FloatProgressModel",
          "model_module_version": "1.5.0",
          "state": {
            "_dom_classes": [],
            "_model_module": "@jupyter-widgets/controls",
            "_model_module_version": "1.5.0",
            "_model_name": "FloatProgressModel",
            "_view_count": null,
            "_view_module": "@jupyter-widgets/controls",
            "_view_module_version": "1.5.0",
            "_view_name": "ProgressView",
            "bar_style": "",
            "description": "",
            "description_tooltip": null,
            "layout": "IPY_MODEL_b00328acb1c7416db162d7dc77dd5a7d",
            "max": 100,
            "min": 0,
            "orientation": "horizontal",
            "style": "IPY_MODEL_1c11ba6488b843ecbd2ef24c5969d1e6",
            "value": 84
          }
        },
        "b00328acb1c7416db162d7dc77dd5a7d": {
          "model_module": "@jupyter-widgets/base",
          "model_name": "LayoutModel",
          "model_module_version": "1.2.0",
          "state": {
            "_model_module": "@jupyter-widgets/base",
            "_model_module_version": "1.2.0",
            "_model_name": "LayoutModel",
            "_view_count": null,
            "_view_module": "@jupyter-widgets/base",
            "_view_module_version": "1.2.0",
            "_view_name": "LayoutView",
            "align_content": null,
            "align_items": null,
            "align_self": null,
            "border": null,
            "bottom": null,
            "display": null,
            "flex": null,
            "flex_flow": null,
            "grid_area": null,
            "grid_auto_columns": null,
            "grid_auto_flow": null,
            "grid_auto_rows": null,
            "grid_column": null,
            "grid_gap": null,
            "grid_row": null,
            "grid_template_areas": null,
            "grid_template_columns": null,
            "grid_template_rows": null,
            "height": null,
            "justify_content": null,
            "justify_items": null,
            "left": null,
            "margin": null,
            "max_height": null,
            "max_width": null,
            "min_height": null,
            "min_width": null,
            "object_fit": null,
            "object_position": null,
            "order": null,
            "overflow": null,
            "overflow_x": null,
            "overflow_y": null,
            "padding": null,
            "right": null,
            "top": null,
            "visibility": null,
            "width": "auto"
          }
        },
        "1c11ba6488b843ecbd2ef24c5969d1e6": {
          "model_module": "@jupyter-widgets/controls",
          "model_name": "ProgressStyleModel",
          "model_module_version": "1.5.0",
          "state": {
            "_model_module": "@jupyter-widgets/controls",
            "_model_module_version": "1.5.0",
            "_model_name": "ProgressStyleModel",
            "_view_count": null,
            "_view_module": "@jupyter-widgets/base",
            "_view_module_version": "1.2.0",
            "_view_name": "StyleView",
            "bar_color": "black",
            "description_width": ""
          }
        },
        "22666fb567ba4293a5b629bd96023b62": {
          "model_module": "@jupyter-widgets/controls",
          "model_name": "FloatProgressModel",
          "model_module_version": "1.5.0",
          "state": {
            "_dom_classes": [],
            "_model_module": "@jupyter-widgets/controls",
            "_model_module_version": "1.5.0",
            "_model_name": "FloatProgressModel",
            "_view_count": null,
            "_view_module": "@jupyter-widgets/controls",
            "_view_module_version": "1.5.0",
            "_view_name": "ProgressView",
            "bar_style": "",
            "description": "",
            "description_tooltip": null,
            "layout": "IPY_MODEL_ee4d8571d1474409ae175e9ae7527e61",
            "max": 100,
            "min": 0,
            "orientation": "horizontal",
            "style": "IPY_MODEL_40e2972a490a4a6aa24adf7dd7eea8a3",
            "value": 100
          }
        },
        "ee4d8571d1474409ae175e9ae7527e61": {
          "model_module": "@jupyter-widgets/base",
          "model_name": "LayoutModel",
          "model_module_version": "1.2.0",
          "state": {
            "_model_module": "@jupyter-widgets/base",
            "_model_module_version": "1.2.0",
            "_model_name": "LayoutModel",
            "_view_count": null,
            "_view_module": "@jupyter-widgets/base",
            "_view_module_version": "1.2.0",
            "_view_name": "LayoutView",
            "align_content": null,
            "align_items": null,
            "align_self": null,
            "border": null,
            "bottom": null,
            "display": null,
            "flex": null,
            "flex_flow": null,
            "grid_area": null,
            "grid_auto_columns": null,
            "grid_auto_flow": null,
            "grid_auto_rows": null,
            "grid_column": null,
            "grid_gap": null,
            "grid_row": null,
            "grid_template_areas": null,
            "grid_template_columns": null,
            "grid_template_rows": null,
            "height": null,
            "justify_content": null,
            "justify_items": null,
            "left": null,
            "margin": null,
            "max_height": null,
            "max_width": null,
            "min_height": null,
            "min_width": null,
            "object_fit": null,
            "object_position": null,
            "order": null,
            "overflow": null,
            "overflow_x": null,
            "overflow_y": null,
            "padding": null,
            "right": null,
            "top": null,
            "visibility": null,
            "width": "auto"
          }
        },
        "40e2972a490a4a6aa24adf7dd7eea8a3": {
          "model_module": "@jupyter-widgets/controls",
          "model_name": "ProgressStyleModel",
          "model_module_version": "1.5.0",
          "state": {
            "_model_module": "@jupyter-widgets/controls",
            "_model_module_version": "1.5.0",
            "_model_name": "ProgressStyleModel",
            "_view_count": null,
            "_view_module": "@jupyter-widgets/base",
            "_view_module_version": "1.2.0",
            "_view_name": "StyleView",
            "bar_color": "black",
            "description_width": ""
          }
        },
        "51cda68cf8cf4abe895a799ccf9b44c7": {
          "model_module": "@jupyter-widgets/controls",
          "model_name": "FloatProgressModel",
          "model_module_version": "1.5.0",
          "state": {
            "_dom_classes": [],
            "_model_module": "@jupyter-widgets/controls",
            "_model_module_version": "1.5.0",
            "_model_name": "FloatProgressModel",
            "_view_count": null,
            "_view_module": "@jupyter-widgets/controls",
            "_view_module_version": "1.5.0",
            "_view_name": "ProgressView",
            "bar_style": "",
            "description": "",
            "description_tooltip": null,
            "layout": "IPY_MODEL_b2cc6a78df0f40ecaf793fab679e791e",
            "max": 100,
            "min": 0,
            "orientation": "horizontal",
            "style": "IPY_MODEL_9d525d84133c4a65956d19b3d4556fed",
            "value": 100
          }
        },
        "b2cc6a78df0f40ecaf793fab679e791e": {
          "model_module": "@jupyter-widgets/base",
          "model_name": "LayoutModel",
          "model_module_version": "1.2.0",
          "state": {
            "_model_module": "@jupyter-widgets/base",
            "_model_module_version": "1.2.0",
            "_model_name": "LayoutModel",
            "_view_count": null,
            "_view_module": "@jupyter-widgets/base",
            "_view_module_version": "1.2.0",
            "_view_name": "LayoutView",
            "align_content": null,
            "align_items": null,
            "align_self": null,
            "border": null,
            "bottom": null,
            "display": null,
            "flex": null,
            "flex_flow": null,
            "grid_area": null,
            "grid_auto_columns": null,
            "grid_auto_flow": null,
            "grid_auto_rows": null,
            "grid_column": null,
            "grid_gap": null,
            "grid_row": null,
            "grid_template_areas": null,
            "grid_template_columns": null,
            "grid_template_rows": null,
            "height": null,
            "justify_content": null,
            "justify_items": null,
            "left": null,
            "margin": null,
            "max_height": null,
            "max_width": null,
            "min_height": null,
            "min_width": null,
            "object_fit": null,
            "object_position": null,
            "order": null,
            "overflow": null,
            "overflow_x": null,
            "overflow_y": null,
            "padding": null,
            "right": null,
            "top": null,
            "visibility": null,
            "width": "auto"
          }
        },
        "9d525d84133c4a65956d19b3d4556fed": {
          "model_module": "@jupyter-widgets/controls",
          "model_name": "ProgressStyleModel",
          "model_module_version": "1.5.0",
          "state": {
            "_model_module": "@jupyter-widgets/controls",
            "_model_module_version": "1.5.0",
            "_model_name": "ProgressStyleModel",
            "_view_count": null,
            "_view_module": "@jupyter-widgets/base",
            "_view_module_version": "1.2.0",
            "_view_name": "StyleView",
            "bar_color": "black",
            "description_width": ""
          }
        }
      }
    }
  },
  "nbformat": 4,
  "nbformat_minor": 0
}